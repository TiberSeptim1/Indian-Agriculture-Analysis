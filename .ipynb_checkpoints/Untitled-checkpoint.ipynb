{
 "cells": [
  {
   "cell_type": "code",
   "execution_count": 1,
   "id": "bf583398-4981-4340-a295-9ba7a5c6d23b",
   "metadata": {},
   "outputs": [],
   "source": [
    "import pandas as pd\n",
    "import numpy as np\n",
    "\n",
    "pd.set_option('display.float_format', '{:,.2f}'.format)  # Sets float format globally\n",
    "\n",
    "df = pd.read_csv('apy.csv')\n",
    "\n",
    "df.drop_duplicates(inplace=True)\n",
    "df.fillna(0, inplace=True)\n",
    "\n",
    "df[\"Crop_Year\"] = df[\"Crop_Year\"].astype(int)"
   ]
  },
  {
   "cell_type": "code",
   "execution_count": 2,
   "id": "0d5a9abe-2bd9-4f5e-8cfb-f8a6bfe24b34",
   "metadata": {},
   "outputs": [
    {
     "name": "stdout",
     "output_type": "stream",
     "text": [
      "State_Name                   Crop_Year  Season     \n",
      "Andaman and Nicobar Islands  2000       Kharif             81\n",
      "                                        Whole Year          5\n",
      "                             2001       Kharif             92\n",
      "                                        Whole Year         14\n",
      "                             2002       Kharif            129\n",
      "                                                        ...  \n",
      "West Bengal                  2014       Kharif         244843\n",
      "                                        Rabi           241720\n",
      "                                        Summer         244275\n",
      "                                        Whole Year     244277\n",
      "                                        Winter         238597\n",
      "Name: Production, Length: 1811, dtype: int64\n"
     ]
    }
   ],
   "source": [
    "print(df.groupby([\"State_Name\",\"Crop_Year\",\"Season\"])[\"Production\"].idxmax())"
   ]
  },
  {
   "cell_type": "code",
   "execution_count": 3,
   "id": "93843841-4744-4d6e-9108-8bbe7d05639a",
   "metadata": {},
   "outputs": [
    {
     "name": "stdout",
     "output_type": "stream",
     "text": [
      "                         State_Name             District_Name  Crop_Year  \\\n",
      "81      Andaman and Nicobar Islands  NORTH AND MIDDLE ANDAMAN       2000   \n",
      "5       Andaman and Nicobar Islands                  NICOBARS       2000   \n",
      "92      Andaman and Nicobar Islands  NORTH AND MIDDLE ANDAMAN       2001   \n",
      "14      Andaman and Nicobar Islands                  NICOBARS       2001   \n",
      "129     Andaman and Nicobar Islands            SOUTH ANDAMANS       2002   \n",
      "...                             ...                       ...        ...   \n",
      "244843                  West Bengal               MURSHIDABAD       2014   \n",
      "241720                  West Bengal                   HOOGHLY       2014   \n",
      "244275                  West Bengal            MEDINIPUR WEST       2014   \n",
      "244277                  West Bengal            MEDINIPUR WEST       2014   \n",
      "238597                  West Bengal                 BARDHAMAN       2014   \n",
      "\n",
      "             Season       Crop       Area    Production  \n",
      "81      Kharif            Rice  10,779.00     31,863.00  \n",
      "5       Whole Year    Coconut   18,168.00 65,100,000.00  \n",
      "92      Kharif            Rice   9,718.00     27,033.00  \n",
      "14      Whole Year    Coconut   18,190.00 64,430,000.00  \n",
      "129     Kharif            Rice  10,695.80     31,600.82  \n",
      "...             ...        ...        ...           ...  \n",
      "244843  Kharif            Jute 154,776.00  2,225,245.00  \n",
      "241720  Rabi            Potato 100,745.00  3,506,137.00  \n",
      "244275  Summer            Rice 195,960.00    580,442.00  \n",
      "244277  Whole Year   Sugarcane   4,390.00    789,614.00  \n",
      "238597  Winter            Rice 419,814.00  1,361,138.00  \n",
      "\n",
      "[1811 rows x 7 columns]\n"
     ]
    }
   ],
   "source": [
    "dfd = df.loc[df.groupby([\"State_Name\", \"Crop_Year\", \"Season\"])[\"Production\"].idxmax()]\n",
    "print(dfd)"
   ]
  },
  {
   "cell_type": "code",
   "execution_count": null,
   "id": "975d7b81-15de-426f-bff7-fcf3ba811c48",
   "metadata": {},
   "outputs": [],
   "source": []
  }
 ],
 "metadata": {
  "kernelspec": {
   "display_name": "Python 3 (ipykernel)",
   "language": "python",
   "name": "python3"
  },
  "language_info": {
   "codemirror_mode": {
    "name": "ipython",
    "version": 3
   },
   "file_extension": ".py",
   "mimetype": "text/x-python",
   "name": "python",
   "nbconvert_exporter": "python",
   "pygments_lexer": "ipython3",
   "version": "3.12.7"
  }
 },
 "nbformat": 4,
 "nbformat_minor": 5
}
